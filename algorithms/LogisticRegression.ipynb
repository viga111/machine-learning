{
 "cells": [
  {
   "cell_type": "markdown",
   "id": "48e5bf38",
   "metadata": {},
   "source": [
    "**<font size=5 color='black'>逻辑回归</font>** "
   ]
  },
  {
   "cell_type": "markdown",
   "id": "32c617af",
   "metadata": {},
   "source": [
    "**1** 介绍逻辑回归算法的基本原理\n",
    "\n",
    "**2** 介绍逻辑回归模型参数的梯度下降求解方法\n",
    "\n",
    "**3** 使用鸢尾花数据集，以二元逻辑回归为例， 对比本文算法与sklearn的结果"
   ]
  },
  {
   "cell_type": "code",
   "execution_count": 1,
   "id": "be3e4591",
   "metadata": {
    "ExecuteTime": {
     "end_time": "2021-09-22T01:18:43.799355Z",
     "start_time": "2021-09-22T01:18:42.072300Z"
    }
   },
   "outputs": [],
   "source": [
    "from sklearn.datasets import load_iris\n",
    "from sklearn.linear_model import LogisticRegression\n",
    "import matplotlib.pyplot as plt\n",
    "import numpy as np"
   ]
  },
  {
   "cell_type": "markdown",
   "id": "c81405f2",
   "metadata": {},
   "source": [
    "**<font size=4 color='black'>1 算法概述</font>** <br>"
   ]
  },
  {
   "cell_type": "markdown",
   "id": "58541c12",
   "metadata": {},
   "source": [
    "**<font size=3.5 color='black'>1.1 数学模型</font>** \n",
    "\n",
    "+ 二元逻辑回归模型：$$ P(Y=1|x) = \\frac{1}{1+e^{-(wx+b)}} = \\frac{1}{1+e^{-(\\theta x)}}, \\theta = (b, w_1, w_2, ..., w_n), x = (1, x_1, x_2, ..., x_n)\\tag{1}$$ $ wx $为$ w $和$ x $的**内积**，为方便表达，将$ b $和$ w $合并为$ \\theta $，同时增加$ x $的维度，但这里不改变$ x $的表示符号。\n",
    "\n",
    "+ 模型特性：$$ wx+b  = \\theta x = ln \\frac{P(Y=1|x)}{1 - P(Y=1|x)} \\tag{2}$$ 即输出$Y=1$的对数几率是输入$x$的线性函数。当$ \\theta x $趋近于正无穷时，$ P(Y=1|x) $趋近于1；当$ \\theta x $趋近于负无穷时，$ P(Y=1|x) $趋近于0；当$ \\theta x $趋近于0时，$ P(Y=1|x) $趋近于0.5"
   ]
  },
  {
   "cell_type": "code",
   "execution_count": 2,
   "id": "dc32e6db",
   "metadata": {
    "ExecuteTime": {
     "end_time": "2021-09-22T01:18:43.815356Z",
     "start_time": "2021-09-22T01:18:43.801357Z"
    }
   },
   "outputs": [],
   "source": [
    "def sigmoid(t):\n",
    "    \"\"\"该函数对应前面的二元逻辑回归模型，称为sigmoid函数或者logistic函数\n",
    "    Parameters\n",
    "    ----------\n",
    "    t: ndarray of shape (n_samples, 1)\n",
    "\n",
    "    Returns\n",
    "    -------\n",
    "    out: ndarray of shape (n_samples, 1)\n",
    "    \"\"\"\n",
    "    out = 1 / (1 + np.exp(-t))\n",
    "    return out"
   ]
  },
  {
   "cell_type": "markdown",
   "id": "0d890edd",
   "metadata": {},
   "source": [
    "**<font size=3.5 color='black'>1.2 损失函数</font>** \n",
    "\n",
    "+ 确定逻辑回归模型的数学形式后，接下来的目标是找到一个合适的损失函数，并基于该目标求解模型参数。对于二分类问题，模型最终输出只有两种结果（Y=1和Y=0），由于逻辑回归直接输出的是$P(Y=1|x)$或$P(Y=0|x)$，也就是概率值，因此可以利用极大似然估计的思想，即寻找一组参数，使得在这组参数下，我们的数据对应的概率最大。\n",
    "\n",
    "+ 令：$ P(Y=1|x) = h_\\theta(x), P(Y=0|x) = 1 - h_\\theta(x) $<br>\n",
    "似然函数：\n",
    "$$ L(\\theta) = \\prod_{i=1}^m[h_\\theta(x^{(i)})]^{y^{(i)}}[1 - h_\\theta(x^{(i)})]^{1 -y^{(i)}} (y=0,1) \\tag{3}$$\n",
    "其中，m为样本数；$ x^{(i)} $为第i个样本向量；$ y^{(i)} $为第i个样本标签。<br>\n",
    "取ln得：\n",
    "$$ lnL(\\theta) = \\sum_{i=1}^m [y^{(i)}lnh_\\theta(x^{(i)}) + (1-y^{(i)})ln(1-h_\\theta(x^{(i)}))] = \\sum_{i=1}^m[y^{(i)} \\cdot \\theta x^{(i)} - ln(1+e^{\\theta x^{(i)}}]\\tag{4}$$<br>\n",
    "+ **取数据集的平均对数似然损失作为损失函数**：\n",
    "$$ J(\\theta) = -\\frac{1}{m}lnL(\\theta) \\tag{5}$$ <br>\n",
    "加负号的原因是将原本求概率最大的问题转化为求最小，也就是将原本的梯度上升求解转化为梯度下降求解，这样做的目的是便于类比线性回归。<br>\n",
    "<font size=4 color='red'>注意：</font> 当样本标签$y \\in \\{ 1, -1\\}$时，逻辑回归的损失函数有所变化，但本质上是一致的，具体可以参考[paper](https://eprint.iacr.org/2018/074.pdf)。"
   ]
  },
  {
   "cell_type": "code",
   "execution_count": 3,
   "id": "06999956",
   "metadata": {
    "ExecuteTime": {
     "end_time": "2021-09-22T01:18:43.831357Z",
     "start_time": "2021-09-22T01:18:43.817358Z"
    }
   },
   "outputs": [],
   "source": [
    "def logistic_loss(theta, X, y):\n",
    "    \"\"\"计算损失\n",
    "    Parameters\n",
    "    ----------\n",
    "    theta: ndarray of shape (1+n_features, 1)\n",
    "    X: ndarray of shape (n_samples, 1+n_features)\n",
    "    y: ndarray of shape (n_samples, 1)\n",
    "\n",
    "    Returns\n",
    "    -------\n",
    "    loss: float\n",
    "    \"\"\"\n",
    "    y_hat = sigmoid(X.dot(theta))\n",
    "    loss = -(y.T.dot(np.log(y_hat)) + (1-y).T.dot(np.log(1-y_hat))) / len(y)\n",
    "    return loss[0][0]"
   ]
  },
  {
   "cell_type": "markdown",
   "id": "88792c12",
   "metadata": {},
   "source": [
    "**<font size=4 color='black'>2 梯度下降</font>**\n",
    "\n",
    "**<font size=3.5 color='black'>2.1 梯度计算公式</font>** \n",
    "\n",
    "$$ \\frac{\\partial}{\\partial \\theta_j}J(\\theta) = -\\frac{1}{m}\\sum_{i=1}^{m}[x_j^{(i)}y^{(i)}-x_j^{(i)}\\frac{e^{\\theta x^{(i)}}}{1+e^{\\theta x^{(i)}}}] = \\frac{1}{m} \\sum_{i=1}^{m}[h_\\theta(x^{(i)})-y^{(i)}]x_j^{(i)}\\tag{6}$$\n",
    "\n",
    "可以发现，该公式与线性回归部分的对应公式高度统一！只是$h_\\theta(x^{(i)})$所表达的函数形式有所不同，逻辑回归的$h_\\theta(x^{(i)})$相当于在线性回归函数模型的基础上套了个“外套”，即映射。"
   ]
  },
  {
   "cell_type": "code",
   "execution_count": 4,
   "id": "565be1a5",
   "metadata": {
    "ExecuteTime": {
     "end_time": "2021-09-22T01:18:43.846372Z",
     "start_time": "2021-09-22T01:18:43.834360Z"
    }
   },
   "outputs": [],
   "source": [
    "def logistic_grad(theta, X, y):\n",
    "    \"\"\"计算梯度\n",
    "    Parameters\n",
    "    ----------\n",
    "    theta: ndarray of shape (1+n_features, 1)\n",
    "    X: ndarray of shape (n_samples, 1+n_features)\n",
    "    y: ndarray of shape (n_samples, 1)\n",
    "\n",
    "    Returns\n",
    "    -------\n",
    "    grad: ndarray of shape (1+n_features, 1)\n",
    "    \"\"\"\n",
    "    y_hat = sigmoid(X.dot(theta))\n",
    "    grad = X.T.dot(y_hat - y) / len(y)\n",
    "    return grad"
   ]
  },
  {
   "cell_type": "markdown",
   "id": "157be4c2",
   "metadata": {},
   "source": [
    "**<font size=3.5 color='black'>2.2 参数更新公式</font>** \n",
    "\n",
    "$$ \\theta_j^k = \\theta_j^{k-1} - \\eta J^{'}(\\theta_j^{k-1}) \\tag{7}$$"
   ]
  },
  {
   "cell_type": "code",
   "execution_count": 5,
   "id": "4f650337",
   "metadata": {
    "ExecuteTime": {
     "end_time": "2021-09-22T01:18:43.862361Z",
     "start_time": "2021-09-22T01:18:43.851371Z"
    }
   },
   "outputs": [],
   "source": [
    "def gradient_descent(X, y, initial_theta, eta, max_iter=10000, tol=1e-4):\n",
    "    \"\"\"批量梯度下降法（FG）\n",
    "    Parameters\n",
    "    ----------\n",
    "    X: ndarray of shape (n_samples, 1+n_features)\n",
    "    y: ndarray of shape (n_samples, 1)\n",
    "    initial_theta: ndarray of shape (1+n_features, 1) theta的初始值 \n",
    "    eta: float 学习率\n",
    "    max_iter: int 最大迭代次数 \n",
    "    tol: float 梯度的阈值\n",
    "\n",
    "    Returns\n",
    "    -------\n",
    "    theta: ndarray of shape (1+n_features, 1) theta的求解结果\n",
    "    loss_path: list loss更新列表\n",
    "    \"\"\"\n",
    "    theta = initial_theta\n",
    "    cur_iter = 1\n",
    "    loss_path = []\n",
    "    loss_path.append(logistic_loss(theta, X, y))  # 存储初始损失函数值\n",
    "\n",
    "    while cur_iter <= max_iter:\n",
    "        grad = logistic_grad(theta, X, y)\n",
    "        theta = theta - eta * grad\n",
    "        loss_path.append(logistic_loss(theta, X, y))\n",
    "        if all(abs(grad) < tol):\n",
    "            break\n",
    "        cur_iter += 1\n",
    "\n",
    "    return theta, loss_path"
   ]
  },
  {
   "cell_type": "markdown",
   "id": "1cc35a80",
   "metadata": {},
   "source": [
    "**<font size=4 color='black'>5 案例</font>**\n",
    "\n",
    "**5.1 数据准备**\n",
    "\n",
    "+ 鸢尾花数据集包含150行数据记录，特征维度为4，标签有3类（1-50条记录的类别为0，51-100行类别为1，100-150行为类别2）。<br>\n",
    "+ 由于本文研究的是二分类逻辑回归问题，同时为了方便可视化，直观表达分类效果，**这里只取前100行以及前2列数据做研究**。数据示例：<br>"
   ]
  },
  {
   "cell_type": "markdown",
   "id": "6495c727",
   "metadata": {},
   "source": [
    "|Sepal_Length|Sepal_Width|Petal_Length|Petal_Width|Species|\n",
    "|:----------:|:---------:|:----------:|:---------:|:-----:|\n",
    "|5.1         |3.5        |1.4         |0.2        |setosa |\n",
    "|4.9         |3.0        |1.4         |0.2        |setosa |\n",
    "|4.7         |3.2        |1.3         |0.2        |setosa |\n",
    "|4.6         |3.1        |1.5         |0.2        |setosa |"
   ]
  },
  {
   "cell_type": "code",
   "execution_count": 6,
   "id": "08503b05",
   "metadata": {
    "ExecuteTime": {
     "end_time": "2021-09-22T01:18:44.102382Z",
     "start_time": "2021-09-22T01:18:43.865363Z"
    }
   },
   "outputs": [
    {
     "data": {
      "text/plain": [
       "<matplotlib.legend.Legend at 0x1e22ce65c10>"
      ]
     },
     "execution_count": 6,
     "metadata": {},
     "output_type": "execute_result"
    },
    {
     "data": {
      "image/png": "[encoded data removed]",
      "text/plain": [
       "<Figure size 432x288 with 1 Axes>"
      ]
     },
     "metadata": {
      "needs_background": "light"
     },
     "output_type": "display_data"
    }
   ],
   "source": [
    "iris = load_iris()\n",
    "feature_names = iris.feature_names\n",
    "target_names = iris.target_names\n",
    "\n",
    "# 取前100行、前2列数据\n",
    "X = iris.data\n",
    "X = X[:100, :2]\n",
    "y = iris.target\n",
    "y = y[:100]\n",
    "\n",
    "# 使用前2个特征可视化数据\n",
    "index_0 = np.where(y == 0)\n",
    "index_1 = np.where(y == 1)\n",
    "fig = plt.figure()\n",
    "ax = plt.axes()\n",
    "ax.scatter(X[index_0[0], 0], X[index_0[0], 1],\n",
    "           marker='o', c='r', s=15, label='0')\n",
    "ax.scatter(X[index_1[0], 0], X[index_1[0], 1],\n",
    "           marker='*', c='b', s=15, label='1')\n",
    "ax.set(xlabel=feature_names[0], ylabel=feature_names[1])\n",
    "ax.legend()"
   ]
  },
  {
   "cell_type": "markdown",
   "id": "f5c2df5a",
   "metadata": {},
   "source": [
    "**5.2 结果对比**"
   ]
  },
  {
   "cell_type": "code",
   "execution_count": 7,
   "id": "a6114d11",
   "metadata": {
    "ExecuteTime": {
     "end_time": "2021-09-22T01:18:46.610613Z",
     "start_time": "2021-09-22T01:18:44.106384Z"
    }
   },
   "outputs": [
    {
     "name": "stdout",
     "output_type": "stream",
     "text": [
      "本文算法\n",
      "-------\n",
      "第65000次迭代停止\n",
      "theta：\n",
      " [[-24.31826725]\n",
      " [ 11.69325041]\n",
      " [-12.50897045]]\n",
      "gradient：\n",
      " [[ 0.00064867]\n",
      " [-0.00019459]\n",
      " [ 0.00012466]]\n"
     ]
    }
   ],
   "source": [
    "# 本文算法\n",
    "X_ = np.hstack([np.ones((100, 1)), X])  # 增加X的维度以适应矩阵运算\n",
    "y_ = y.reshape(-1, 1)  # 将y转换成一个列向量以适应矩阵运算\n",
    "initial_theta = np.ones((X_.shape[1], 1))\n",
    "theta, loss_path = gradient_descent(\n",
    "    X_, y_, initial_theta, eta=0.278, max_iter=65000, tol=1e-4)\n",
    "grad = logistic_grad(theta, X_, y_)\n",
    "\n",
    "print('本文算法')\n",
    "print('-------')\n",
    "print('第{}次迭代停止'.format(len(loss_path) - 1))\n",
    "print('theta：\\n', theta)\n",
    "print('gradient：\\n', grad)"
   ]
  },
  {
   "cell_type": "code",
   "execution_count": 8,
   "id": "e2fff6a6",
   "metadata": {
    "ExecuteTime": {
     "end_time": "2021-09-22T01:18:46.992684Z",
     "start_time": "2021-09-22T01:18:46.614614Z"
    }
   },
   "outputs": [
    {
     "data": {
      "text/plain": [
       "<matplotlib.legend.Legend at 0x1e230134550>"
      ]
     },
     "execution_count": 8,
     "metadata": {},
     "output_type": "execute_result"
    },
    {
     "data": {
      "image/png": "[encoded data removed]",
      "text/plain": [
       "<Figure size 792x288 with 2 Axes>"
      ]
     },
     "metadata": {
      "needs_background": "light"
     },
     "output_type": "display_data"
    }
   ],
   "source": [
    "fig2, axes = plt.subplots(1, 2, figsize=(11, 4))\n",
    "\n",
    "# 损失函数值变化过程图\n",
    "axes[0].plot(range(len(loss_path[:200])), loss_path[:200])  # 取前200次迭代结果展示\n",
    "axes[0].set(xlabel='No. of iteration', ylabel='loss')\n",
    "\n",
    "# 分类结果图\n",
    "x1 = np.arange(4.0, 7.5, 0.5)\n",
    "x2 = (-theta[0][0] - theta[1][0]*x1) / theta[2][0]\n",
    "axes[1].scatter(X[index_0[0], 0], X[index_0[0], 1],\n",
    "                marker='o', c='r', s=15, label='0')\n",
    "axes[1].scatter(X[index_1[0], 0], X[index_1[0], 1],\n",
    "                marker='o', c='b', s=15, label='1')\n",
    "axes[1].plot(x1, x2, linestyle='--', color='k', linewidth=1.5)\n",
    "axes[1].set(xlabel=feature_names[0], ylabel=feature_names[1])\n",
    "axes[1].legend()"
   ]
  },
  {
   "cell_type": "markdown",
   "id": "14cbf6f0",
   "metadata": {},
   "source": [
    "+ 从上述计算结果可以看出，算法达到最大迭代次数，此时对应的梯度并未达到收敛条件（梯度小于1e-4），这是正常的。因为从loss图像可以看出，在前50次迭代过程中有明显的“振荡”，这说明$\\eta$值设置的较大，导致梯度下降时“步子迈的太大”，同时这也导致了最终没有达到梯度收敛条件，而是达到最大迭代次数后停止。\n",
    "+ $\\eta$值是本文经过多次试验人为设定的，可以发现最终的分类结果很好地区分了两种类别。但实际上对于$\\eta$值的确定有很多优秀的方法，这里只是为了简单说明逻辑回归方法，因此并未针对$\\eta$值的设定问题进行深入探讨。\n",
    "+ 由于逻辑回归的损失函数$J(\\theta)$是一个**凸函数**，因此理论上可以通过设定一个很小的$\\eta$以及很大的max_iters来不断迭代找到一个最小值点，但由于计算时间、计算资源等的限制，通常我们不会去做，只需要满足我们的精度需求即可。<br>"
   ]
  },
  {
   "cell_type": "markdown",
   "id": "bd74a277",
   "metadata": {},
   "source": [
    "**<font size=3 color='red'>说明：</font>**本文不过多考虑过拟合、预测等问题，仅限于通过简单例子理解模型的思想和处理过程。"
   ]
  },
  {
   "cell_type": "code",
   "execution_count": 9,
   "id": "beecc764",
   "metadata": {
    "ExecuteTime": {
     "end_time": "2021-09-22T01:18:47.040472Z",
     "start_time": "2021-09-22T01:18:46.994684Z"
    },
    "scrolled": true
   },
   "outputs": [
    {
     "name": "stdout",
     "output_type": "stream",
     "text": [
      "sklearn\n",
      "-------\n",
      "第[2678]次迭代停止\n",
      "w：\n",
      " [[ 11.6797423  -12.50027737]]\n",
      "b：\n",
      " [-24.27356126]\n"
     ]
    }
   ],
   "source": [
    "# sklearn\n",
    "logreg = LogisticRegression(penalty='none', solver='sag',\n",
    "                            max_iter=10000, tol=1e-4)\n",
    "# penalty='none' 不进行正则化\n",
    "# solver='sag' 采用随机平均梯度下降法求解参数\n",
    "# max_iter=10000 最大迭代次数\n",
    "# tol=1e-4 停止迭代的容差\n",
    "logreg.fit(X, y)\n",
    "\n",
    "print('sklearn')\n",
    "print('-------')\n",
    "print('第{}次迭代停止'.format(logreg.n_iter_))\n",
    "print('w：\\n', logreg.coef_)\n",
    "print('b：\\n', logreg.intercept_)"
   ]
  },
  {
   "cell_type": "markdown",
   "id": "2b2376bc",
   "metadata": {},
   "source": [
    "以下cell的代码[参考](https://scikit-learn.org/stable/auto_examples/linear_model/plot_iris_logistic.html#sphx-glr-auto-examples-linear-model-plot-iris-logistic-py)"
   ]
  },
  {
   "cell_type": "code",
   "execution_count": 10,
   "id": "f75bf3a2",
   "metadata": {
    "ExecuteTime": {
     "end_time": "2021-09-22T01:18:47.231671Z",
     "start_time": "2021-09-22T01:18:47.043476Z"
    }
   },
   "outputs": [
    {
     "data": {
      "text/plain": [
       "(1.5, 4.900000000000003)"
      ]
     },
     "execution_count": 10,
     "metadata": {},
     "output_type": "execute_result"
    },
    {
     "data": {
      "image/png": "[encoded data removed]",
      "text/plain": [
       "<Figure size 360x288 with 1 Axes>"
      ]
     },
     "metadata": {
      "needs_background": "light"
     },
     "output_type": "display_data"
    }
   ],
   "source": [
    "x_min, x_max = X[:, 0].min() - .5, X[:, 0].max() + .5\n",
    "y_min, y_max = X[:, 1].min() - .5, X[:, 1].max() + .5\n",
    "h = .02  # step size in the mesh\n",
    "xx, yy = np.meshgrid(np.arange(x_min, x_max, h), np.arange(y_min, y_max, h))\n",
    "Z = logreg.predict(np.c_[xx.ravel(), yy.ravel()])\n",
    "\n",
    "# Put the result into a color plot\n",
    "Z = Z.reshape(xx.shape)\n",
    "plt.figure(1, figsize=(5, 4))\n",
    "plt.pcolormesh(xx, yy, Z, shading='auto', cmap=plt.cm.Paired)\n",
    "plt.scatter(X[:, 0], X[:, 1], c=y, edgecolors='k', cmap=plt.cm.Paired)\n",
    "plt.xlabel('Sepal length')\n",
    "plt.ylabel('Sepal width')\n",
    "\n",
    "plt.xlim(xx.min(), xx.max())\n",
    "plt.ylim(yy.min(), yy.max())"
   ]
  },
  {
   "cell_type": "markdown",
   "id": "612e0917",
   "metadata": {},
   "source": [
    "**对比本文算法的结果可以发现：**\n",
    "\n",
    "+ 利用sklearn库求解得到的参数值相差不大，有区别的原因主要有以下几个：<br>\n",
    "1）采用的求解算法不同。sklearn采用随机平均梯度下降（SAG）方法，本文采用批量梯度下降（FG）方法<br>\n",
    "2）学习步长$\\eta$的设定方法不同。SAG采用自动步长，而在本文算法中我们给FG设置了固定步长<br>\n",
    "3）停止迭代的条件不同。通过查看sklearn相关源码发现，采用SAG算法的停止条件为：max(change in weights) / max(weights) < tol，这与本文算法不同<br><br>\n",
    "+ sklearn的迭代次数更少，这是因为SAG算法在一次迭代过程中进行了多次参数更新，而FG算法一次迭代只进行一次参数更新，这无疑会降低效率。除此之外，这与$\\eta$的设定也有关。"
   ]
  },
  {
   "cell_type": "markdown",
   "id": "f39edf36",
   "metadata": {},
   "source": [
    "**总结：**本文手动实现的逻辑回归算法取得了较好的分类效果，不可否认sklearn库中集成的逻辑回归方法更为优秀，但本文\n",
    "\n",
    "目的在于通过简单实现帮助理解算法的基本原理，进一步学习可参考[sklearn.linear_model.LogisticRegression](https://scikit-learn.org/stable/modules/generated/sklearn.linear_model.LogisticRegression.html)及源码。"
   ]
  },
  {
   "cell_type": "markdown",
   "id": "64723b27",
   "metadata": {},
   "source": [
    "**<font size=4 color='black'>参考</font>**\n",
    "\n",
    "1 李航. (2012) 统计学习方法. 清华大学出版社, 北京.\n",
    "\n",
    "2 [sklearn.linear_model.LogisticRegression](https://scikit-learn.org/stable/modules/generated/sklearn.linear_model.LogisticRegression.html)"
   ]
  },
  {
   "cell_type": "markdown",
   "id": "f0a3ac69",
   "metadata": {},
   "source": [
    "**<font size=4 color='blue'>附录</font>** \n",
    "\n",
    "**sigmoid函数图像**"
   ]
  },
  {
   "cell_type": "code",
   "execution_count": 11,
   "id": "0294b646",
   "metadata": {
    "ExecuteTime": {
     "end_time": "2021-09-22T01:18:47.389680Z",
     "start_time": "2021-09-22T01:18:47.233668Z"
    }
   },
   "outputs": [
    {
     "name": "stdout",
     "output_type": "stream",
     "text": [
      "sigmoid函数的导数最大值: 0.25\n"
     ]
    },
    {
     "data": {
      "text/plain": [
       "Text(0.5, 1.0, 'sigmoid function')"
      ]
     },
     "execution_count": 11,
     "metadata": {},
     "output_type": "execute_result"
    },
    {
     "data": {
      "image/png": "[encoded data removed]",
      "text/plain": [
       "<Figure size 432x288 with 1 Axes>"
      ]
     },
     "metadata": {
      "needs_background": "light"
     },
     "output_type": "display_data"
    }
   ],
   "source": [
    "# 绘制sigmoid函数图像\n",
    "t = np.arange(-10, 10, 0.1)\n",
    "h = 1 / (1 + np.exp(-t))\n",
    "max_dh = max(h * (1 - h))\n",
    "print('sigmoid函数的导数最大值:', max_dh)\n",
    "plt.plot(t, h)\n",
    "plt.xlabel('t')\n",
    "plt.ylabel('h(t)')\n",
    "plt.title('sigmoid function')"
   ]
  }
 ],
 "metadata": {
  "kernelspec": {
   "display_name": "Python 3",
   "language": "python",
   "name": "python3"
  },
  "language_info": {
   "codemirror_mode": {
    "name": "ipython",
    "version": 3
   },
   "file_extension": ".py",
   "mimetype": "text/x-python",
   "name": "python",
   "nbconvert_exporter": "python",
   "pygments_lexer": "ipython3",
   "version": "3.8.4"
  },
  "toc": {
   "base_numbering": 1,
   "nav_menu": {},
   "number_sections": true,
   "sideBar": true,
   "skip_h1_title": false,
   "title_cell": "Table of Contents",
   "title_sidebar": "Contents",
   "toc_cell": false,
   "toc_position": {},
   "toc_section_display": true,
   "toc_window_display": false
  },
  "varInspector": {
   "cols": {
    "lenName": 16,
    "lenType": 16,
    "lenVar": 40
   },
   "kernels_config": {
    "python": {
     "delete_cmd_postfix": "",
     "delete_cmd_prefix": "del ",
     "library": "var_list.py",
     "varRefreshCmd": "print(var_dic_list())"
    },
    "r": {
     "delete_cmd_postfix": ") ",
     "delete_cmd_prefix": "rm(",
     "library": "var_list.r",
     "varRefreshCmd": "cat(var_dic_list()) "
    }
   },
   "position": {
    "height": "408.99px",
    "left": "843px",
    "right": "20px",
    "top": "85px",
    "width": "350px"
   },
   "types_to_exclude": [
    "module",
    "function",
    "builtin_function_or_method",
    "instance",
    "_Feature"
   ],
   "window_display": false
  }
 },
 "nbformat": 4,
 "nbformat_minor": 5
}
